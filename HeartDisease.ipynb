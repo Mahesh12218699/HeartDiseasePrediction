{
  "nbformat": 4,
  "nbformat_minor": 0,
  "metadata": {
    "colab": {
      "private_outputs": true,
      "provenance": []
    },
    "kernelspec": {
      "name": "python3",
      "display_name": "Python 3"
    },
    "language_info": {
      "name": "python"
    }
  },
  "cells": [
    {
      "cell_type": "code",
      "execution_count": null,
      "metadata": {
        "id": "rkR0BDfwTIBy"
      },
      "outputs": [],
      "source": [
        "#importing the required libraries\n",
        "import pandas as pd\n",
        "import pylab as pl\n",
        "import numpy as np\n",
        "import scipy.optimize as opt\n",
        "import statsmodels.api as sm\n",
        "from sklearn import preprocessing\n",
        "'exec(% matplotlib inline)'\n",
        "import matplotlib.pyplot as plt\n",
        "import matplotlib.mlab as mlab\n",
        "import seaborn as sns\n"
      ]
    },
    {
      "cell_type": "code",
      "source": [
        "#importing the dataset\n",
        "data=pd.read_csv('framingham.csv')\n",
        "data.head()"
      ],
      "metadata": {
        "id": "AyPnZZJaTNi2"
      },
      "execution_count": null,
      "outputs": []
    },
    {
      "cell_type": "code",
      "source": [
        "#checking whether null values(NAN) are present in the dataset\n",
        "data.isnull().sum()"
      ],
      "metadata": {
        "id": "I3EDTJdWT8h-"
      },
      "execution_count": null,
      "outputs": []
    },
    {
      "cell_type": "code",
      "source": [
        "#imputing the null values(NAN) with the mean\n",
        "cols=['education','cigsPerDay','BPMeds','totChol','BMI','heartRate','glucose']\n",
        "data[cols]= data[cols].fillna(data[cols].mean())"
      ],
      "metadata": {
        "id": "5d2jZ6B8UbhP"
      },
      "execution_count": null,
      "outputs": []
    },
    {
      "cell_type": "code",
      "source": [
        "data.isnull().sum()"
      ],
      "metadata": {
        "id": "pvOtj2DUVOQN"
      },
      "execution_count": null,
      "outputs": []
    },
    {
      "cell_type": "code",
      "source": [
        "#dropping the unecessary features or columns\n",
        "data.drop(['education'],axis=1,inplace=True)"
      ],
      "metadata": {
        "id": "rxqt2j03VqzP"
      },
      "execution_count": null,
      "outputs": []
    },
    {
      "cell_type": "code",
      "source": [
        "X = np.asarray(data[['age', 'male', 'cigsPerDay',\n",
        "                           'totChol', 'sysBP', 'glucose']])\n",
        "y = np.asarray(data['TenYearCHD'])\n"
      ],
      "metadata": {
        "id": "DPNZU53GWFW6"
      },
      "execution_count": null,
      "outputs": []
    },
    {
      "cell_type": "code",
      "source": [
        "#standardizing the independent variables\n",
        "X=preprocessing.StandardScaler().fit_transform(X)"
      ],
      "metadata": {
        "id": "ZkGkv_TXXMMC"
      },
      "execution_count": null,
      "outputs": []
    },
    {
      "cell_type": "code",
      "source": [
        "X"
      ],
      "metadata": {
        "id": "MUVp4hp2Xerm"
      },
      "execution_count": null,
      "outputs": []
    },
    {
      "cell_type": "code",
      "source": [
        "#checking the correlation between the features\n",
        "correlation_matrix = data.corr()\n",
        "\n",
        "# Plot the heatmap\n",
        "plt.figure(figsize=(10, 8))\n",
        "sns.heatmap(correlation_matrix, annot=True, cmap='coolwarm', vmin=-1, vmax=1)\n",
        "\n",
        "# Add title and display the plot\n",
        "plt.title('Feature Collinearity Heatmap')\n",
        "plt.show()"
      ],
      "metadata": {
        "id": "2nOnDiGzXx48"
      },
      "execution_count": null,
      "outputs": []
    },
    {
      "cell_type": "code",
      "source": [
        "plt.figure(figsize=(10,8))\n",
        "sns.countplot(x='TenYearCHD',data=data,palette='BuGn_r')\n",
        "plt.show()"
      ],
      "metadata": {
        "id": "gizPqTSRYD4s"
      },
      "execution_count": null,
      "outputs": []
    },
    {
      "cell_type": "code",
      "source": [
        "laste=data['TenYearCHD'].plot()\n",
        "plt.show(laste)"
      ],
      "metadata": {
        "id": "Ox6nxBFlZlB4"
      },
      "execution_count": null,
      "outputs": []
    },
    {
      "cell_type": "code",
      "source": [
        "#splitting the dataset into training and test set\n",
        "from sklearn.model_selection import train_test_split\n",
        "X_train,X_test,y_train,y_test=train_test_split(X,y,test_size=0.2,random_state=4)"
      ],
      "metadata": {
        "id": "2O5wnOENaEpR"
      },
      "execution_count": null,
      "outputs": []
    },
    {
      "cell_type": "code",
      "source": [
        "print ('Train set:', X_train.shape,  y_train.shape)\n",
        "print ('Test set:', X_test.shape,  y_test.shape)"
      ],
      "metadata": {
        "id": "9w39GmBiak23"
      },
      "execution_count": null,
      "outputs": []
    },
    {
      "cell_type": "code",
      "source": [
        "from sklearn.linear_model import LogisticRegression\n",
        "logreg = LogisticRegression()\n",
        "logreg.fit(X_train, y_train)\n",
        "y_pred = logreg.predict(X_test)"
      ],
      "metadata": {
        "id": "fNMalzA9atSq"
      },
      "execution_count": null,
      "outputs": []
    },
    {
      "cell_type": "code",
      "source": [
        "# Evaluation and accuracy\n",
        "from sklearn.metrics import accuracy_score\n",
        "print('Accuracy of the model is =',\n",
        "      accuracy_score(y_test, y_pred))"
      ],
      "metadata": {
        "id": "H89J4YP3a2hO"
      },
      "execution_count": null,
      "outputs": []
    },
    {
      "cell_type": "code",
      "source": [
        "# Confusion matrix\n",
        "from sklearn.metrics import confusion_matrix, classification_report\n",
        "\n",
        "cm = confusion_matrix(y_test, y_pred)\n",
        "conf_matrix = pd.DataFrame(data = cm,\n",
        "                           columns = ['Predicted:0', 'Predicted:1'],\n",
        "                           index =['Actual:0', 'Actual:1'])\n",
        "\n",
        "plt.figure(figsize = (8, 5))\n",
        "sns.heatmap(conf_matrix, annot = True, fmt = 'd', cmap = \"Greens\")\n",
        "\n",
        "plt.show()\n",
        "print('The details for confusion matrix is =')\n",
        "print (classification_report(y_test, y_pred))"
      ],
      "metadata": {
        "id": "qQ6uV0dra-Ih"
      },
      "execution_count": null,
      "outputs": []
    },
    {
      "cell_type": "code",
      "source": [
        "#applying support vector machine\n",
        "from sklearn.svm import SVC\n",
        "svc = SVC()\n",
        "svc.fit(X_train, y_train)\n",
        "y_pred = svc.predict(X_test)"
      ],
      "metadata": {
        "id": "CILjHInFbVHf"
      },
      "execution_count": null,
      "outputs": []
    },
    {
      "cell_type": "code",
      "source": [
        "print('Accuracy of the model is with support vector =',\n",
        "      accuracy_score(y_test, y_pred))"
      ],
      "metadata": {
        "id": "LWrbrPiJb24j"
      },
      "execution_count": null,
      "outputs": []
    },
    {
      "cell_type": "code",
      "source": [
        "# Confusion matrix\n",
        "from sklearn.metrics import confusion_matrix, classification_report\n",
        "\n",
        "cm = confusion_matrix(y_test, y_pred)\n",
        "conf_matrix = pd.DataFrame(data = cm,\n",
        "                           columns = ['Predicted:0', 'Predicted:1'],\n",
        "                           index =['Actual:0', 'Actual:1'])\n",
        "\n",
        "plt.figure(figsize = (8, 5))\n",
        "sns.heatmap(conf_matrix, annot = True, fmt = 'd', cmap = \"Greens\")\n",
        "\n",
        "plt.show()\n",
        "print('The details for confusion matrix after applying SVM is =')\n",
        "print (classification_report(y_test, y_pred))"
      ],
      "metadata": {
        "id": "GqV5ZhsTb9EY"
      },
      "execution_count": null,
      "outputs": []
    },
    {
      "cell_type": "code",
      "source": [
        "from sklearn.tree import DecisionTreeClassifier\n",
        "dt=DecisionTreeClassifier()\n",
        "dt.fit(X_train,y_train)\n",
        "y_pred=dt.predict(X_test)\n"
      ],
      "metadata": {
        "id": "X0U_6ecwcPOk"
      },
      "execution_count": null,
      "outputs": []
    },
    {
      "cell_type": "code",
      "source": [
        "print('Accuracy of the model after applying decision tree classifier is  =',\n",
        "      accuracy_score(y_test, y_pred))"
      ],
      "metadata": {
        "id": "5Fld29oSclh7"
      },
      "execution_count": null,
      "outputs": []
    },
    {
      "cell_type": "code",
      "source": [
        "# Confusion matrix\n",
        "from sklearn.metrics import confusion_matrix, classification_report\n",
        "\n",
        "cm = confusion_matrix(y_test, y_pred)\n",
        "conf_matrix = pd.DataFrame(data = cm,\n",
        "                           columns = ['Predicted:0', 'Predicted:1'],\n",
        "                           index =['Actual:0', 'Actual:1'])\n",
        "\n",
        "plt.figure(figsize = (8, 5))\n",
        "sns.heatmap(conf_matrix, annot = True, fmt = 'd', cmap = \"Greens\")\n",
        "\n",
        "plt.show()\n",
        "print('The details for confusion matrix after applying SVM is =')\n",
        "print (classification_report(y_test, y_pred))"
      ],
      "metadata": {
        "id": "sY88p53Xc_7J"
      },
      "execution_count": null,
      "outputs": []
    }
  ]
}